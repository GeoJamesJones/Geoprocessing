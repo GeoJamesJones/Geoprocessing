{
 "cells": [
  {
   "cell_type": "code",
   "execution_count": 7,
   "metadata": {
    "collapsed": true
   },
   "outputs": [],
   "source": [
    "import arcpy, os, arcgis, zipfile, sys, glob\n",
    "from arcgis import GIS\n",
    "from arcpy import env\n",
    "\n",
    "inFeature = r'C:\\Users\\jame9353\\Documents\\ArcGIS\\Projects\\DC Crime\\DC Crime.gdb\\Major_Sports_Venues'\n",
    "clipFeature = r'C:\\Users\\jame9353\\Documents\\ArcGIS\\Projects\\DC Crime\\DC Crime.gdb\\DistrictBoundary'\n",
    "buffDist = \"250 Meters\"\n",
    "localDir = r'C:\\Users\\jame9353\\Documents\\ArcGIS\\Projects\\DC Crime'\n",
    "portal = 'https://esrinstallations.maps.arcgis.com'\n",
    "user = \"james_jones_installations\"\n",
    "pw = \"QWerty654321@!\"\n",
    "outName = \"DC_Sports_Venues\""
   ]
  },
  {
   "cell_type": "code",
   "execution_count": 8,
   "metadata": {
    "collapsed": true
   },
   "outputs": [],
   "source": [
    "if os.path.exists(r'C:\\temp') == False:\n",
    "    os.mkdir(r'C:\\temp')"
   ]
  },
  {
   "cell_type": "code",
   "execution_count": 9,
   "metadata": {
    "collapsed": true
   },
   "outputs": [],
   "source": [
    "tempWS = r\"C:\\Users\\jame9353\\Documents\\ArcGIS\\Projects\\DC Crime\\DC Crime.gdb\"\n",
    "stageFolder = r'C:\\temp'\n",
    "tempClip = os.path.join(tempWS, \"tempClip\")\n",
    "tempBuff = os.path.join(tempWS, \"tempBuff\")\n",
    "tempShp = os.path.join(stageFolder, \"tempShp.shp\")\n",
    "outZip = ''"
   ]
  },
  {
   "cell_type": "code",
   "execution_count": 11,
   "metadata": {},
   "outputs": [
    {
     "data": {
      "text/plain": [
       "<Result 'C:\\\\Users\\\\jame9353\\\\Documents\\\\ArcGIS\\\\Projects\\\\DC Crime\\\\DC Crime.gdb\\\\tempClip'>"
      ]
     },
     "execution_count": 11,
     "metadata": {},
     "output_type": "execute_result"
    }
   ],
   "source": [
    "env.overwriteOutput = 1\n",
    "arcpy.Clip_analysis(inFeature, clipFeature, tempClip)"
   ]
  },
  {
   "cell_type": "code",
   "execution_count": 12,
   "metadata": {},
   "outputs": [
    {
     "data": {
      "text/plain": [
       "<Result 'C:\\\\Users\\\\jame9353\\\\Documents\\\\ArcGIS\\\\Projects\\\\DC Crime\\\\DC Crime.gdb\\\\tempBuff'>"
      ]
     },
     "execution_count": 12,
     "metadata": {},
     "output_type": "execute_result"
    }
   ],
   "source": [
    "arcpy.Buffer_analysis(tempClip, tempBuff, buffDist)"
   ]
  },
  {
   "cell_type": "code",
   "execution_count": 13,
   "metadata": {},
   "outputs": [
    {
     "data": {
      "text/plain": [
       "<Result 'C:\\\\temp\\\\tempShp.shp'>"
      ]
     },
     "execution_count": 13,
     "metadata": {},
     "output_type": "execute_result"
    }
   ],
   "source": [
    "arcpy.CopyFeatures_management(tempBuff, tempShp)"
   ]
  },
  {
   "cell_type": "code",
   "execution_count": 14,
   "metadata": {
    "collapsed": true
   },
   "outputs": [],
   "source": [
    "def zipShapefilesInDir(inDir, outDir):   \n",
    "    if not os.path.exists(inDir):  \n",
    "        print(\"Input directory %s does not exist!\" % inDir)\n",
    "        return False  \n",
    "    \n",
    "    if not os.path.exists(outDir):   \n",
    "        print (\"Creating output directory %s\" %outDir)  \n",
    "        os.mkdir(outDir)  \n",
    "  \n",
    "    print(\"Zipping shapefile(s) in folder %s to output folder %s\" % (inDir, outDir))  \n",
    "   \n",
    "    for inShp in glob.glob(os.path.join(inDir, \"*.shp\")):\n",
    "        global outZip\n",
    "        outZip = os.path.join(outDir, os.path.splitext(os.path.basename(inShp))[0] + \".zip\")  \n",
    "   \n",
    "        zipShapefile(inShp, outZip)  \n",
    "    return True \n",
    "\n",
    "def zipShapefile(inShapefile, newZipFN):  \n",
    "    print('Starting to Zip '+(inShapefile)+' to '+(newZipFN))\n",
    "    \n",
    "    if not (os.path.exists(inShapefile)):  \n",
    "        print(inShapefile + ' Does Not Exist')\n",
    "        return False  \n",
    "   \n",
    "    if (os.path.exists(newZipFN)):  \n",
    "        print('Deleting '+newZipFN)  \n",
    "        os.remove(newZipFN)  \n",
    "    \n",
    "    if (os.path.exists(newZipFN)):  \n",
    "        print('Unable to Delete'+newZipFN) \n",
    "        return False  \n",
    "  \n",
    "    zipobj = zipfile.ZipFile(newZipFN,'w')  \n",
    "   \n",
    "    for infile in glob.glob( inShapefile.lower().replace(\".shp\",\".*\")):  \n",
    "        if os.path.splitext(infile)[1].lower() != \".zip\":  \n",
    "            print(\"Zipping %s\" % (infile))  \n",
    "            zipobj.write(infile,os.path.basename(infile),zipfile.ZIP_DEFLATED)  \n",
    "    \n",
    "    zipobj.close()  \n",
    "    return True "
   ]
  },
  {
   "cell_type": "code",
   "execution_count": 15,
   "metadata": {},
   "outputs": [
    {
     "name": "stdout",
     "output_type": "stream",
     "text": [
      "Zipping shapefile(s) in folder C:\\temp to output folder C:\\Users\\jame9353\\Documents\\ArcGIS\\Projects\\DC Crime\n",
      "Starting to Zip C:\\temp\\tempShp.shp to C:\\Users\\jame9353\\Documents\\ArcGIS\\Projects\\DC Crime\\tempShp.zip\n",
      "Zipping c:\\temp\\tempShp.cpg\n",
      "Zipping c:\\temp\\tempShp.dbf\n",
      "Zipping c:\\temp\\tempShp.prj\n",
      "Zipping c:\\temp\\tempShp.sbn\n",
      "Zipping c:\\temp\\tempShp.sbx\n",
      "Zipping c:\\temp\\tempShp.shp\n",
      "Zipping c:\\temp\\tempShp.shp.xml\n",
      "Zipping c:\\temp\\tempShp.shx\n"
     ]
    },
    {
     "data": {
      "text/plain": [
       "True"
      ]
     },
     "execution_count": 15,
     "metadata": {},
     "output_type": "execute_result"
    }
   ],
   "source": [
    "zipShapefilesInDir(stageFolder, localDir)"
   ]
  },
  {
   "cell_type": "code",
   "execution_count": 16,
   "metadata": {
    "collapsed": true
   },
   "outputs": [],
   "source": [
    "gis = GIS(url=portal, username=user, password=pw)"
   ]
  },
  {
   "cell_type": "code",
   "execution_count": 17,
   "metadata": {},
   "outputs": [],
   "source": [
    "tempItem = gis.content.add({\"title\":outName}, outZip)"
   ]
  },
  {
   "cell_type": "code",
   "execution_count": 18,
   "metadata": {
    "collapsed": true
   },
   "outputs": [],
   "source": [
    "tempLyr= tempItem.publish(None)"
   ]
  },
  {
   "cell_type": "code",
   "execution_count": null,
   "metadata": {
    "collapsed": true
   },
   "outputs": [],
   "source": []
  }
 ],
 "metadata": {
  "kernelspec": {
   "display_name": "Python 3",
   "language": "python",
   "name": "python3"
  },
  "language_info": {
   "codemirror_mode": {
    "name": "ipython",
    "version": 3
   },
   "file_extension": ".py",
   "mimetype": "text/x-python",
   "name": "python",
   "nbconvert_exporter": "python",
   "pygments_lexer": "ipython3",
   "version": "3.5.3"
  }
 },
 "nbformat": 4,
 "nbformat_minor": 2
}
