{
 "cells": [
  {
   "cell_type": "code",
   "execution_count": 1,
   "metadata": {
    "collapsed": true
   },
   "outputs": [],
   "source": [
    "import arcpy, os, arcgis, zipfile, sys, glob\n",
    "from arcgis import GIS\n",
    "from arcpy import env\n",
    "\n",
    "inFeature = r'C:\\Users\\jame9353\\Documents\\ArcGIS\\Projects\\DC Crime\\DC Crime.gdb\\Major_Sports_Venues'\n",
    "clipFeature = r'C:\\Users\\jame9353\\Documents\\ArcGIS\\Projects\\DC Crime\\DC Crime.gdb\\DistrictBoundary'\n",
    "buffDist = \"250 Meters\"\n",
    "localDir = r'C:\\Users\\jame9353\\Documents\\ArcGIS\\Projects\\DC Crime'\n",
    "portal = 'https://esrinstallations.maps.arcgis.com'\n",
    "user = \"james_jones_installations\"\n",
    "pw = \"QWerty654321@!\"\n",
    "outName = \"DC_Sports_Venues\""
   ]
  },
  {
   "cell_type": "code",
   "execution_count": 40,
   "metadata": {
    "collapsed": true
   },
   "outputs": [],
   "source": [
    "if os.path.exists(r'C:\\temp') == False:\n",
    "    os.mkdir(r'C:\\temp')"
   ]
  },
  {
   "cell_type": "code",
   "execution_count": 2,
   "metadata": {},
   "outputs": [],
   "source": [
    "tempWS = r\"C:\\Users\\jame9353\\Documents\\ArcGIS\\Projects\\DC Crime\\DC Crime.gdb\"\n",
    "stageFolder = r'C:\\temp'\n",
    "tempClip = os.path.join(tempWS, \"tempClip\")\n",
    "tempBuff = os.path.join(tempWS, \"tempBuff\")\n",
    "tempShp = os.path.join(stageFolder, \"tempShp.shp\")\n",
    "outZip = ''"
   ]
  },
  {
   "cell_type": "code",
   "execution_count": 14,
   "metadata": {},
   "outputs": [
    {
     "data": {
      "text/plain": [
       "<Result 'C:\\\\Users\\\\jame9353\\\\Documents\\\\ArcGIS\\\\Projects\\\\DC Crime\\\\DC Crime.gdb\\\\tempClip'>"
      ]
     },
     "execution_count": 14,
     "metadata": {},
     "output_type": "execute_result"
    }
   ],
   "source": [
    "arcpy.Clip_analysis(inFeature, clipFeature, tempClip)"
   ]
  },
  {
   "cell_type": "code",
   "execution_count": 15,
   "metadata": {},
   "outputs": [
    {
     "data": {
      "text/plain": [
       "<Result 'C:\\\\Users\\\\jame9353\\\\Documents\\\\ArcGIS\\\\Projects\\\\DC Crime\\\\DC Crime.gdb\\\\tempBuff'>"
      ]
     },
     "execution_count": 15,
     "metadata": {},
     "output_type": "execute_result"
    }
   ],
   "source": [
    "arcpy.Buffer_analysis(tempClip, tempBuff, buffDist)"
   ]
  },
  {
   "cell_type": "code",
   "execution_count": 18,
   "metadata": {},
   "outputs": [
    {
     "data": {
      "text/plain": [
       "<Result 'C:\\\\temp\\\\tempShp.shp'>"
      ]
     },
     "execution_count": 18,
     "metadata": {},
     "output_type": "execute_result"
    }
   ],
   "source": [
    "arcpy.CopyFeatures_management(tempBuff, tempShp)"
   ]
  },
  {
   "cell_type": "code",
   "execution_count": 49,
   "metadata": {
    "collapsed": true
   },
   "outputs": [],
   "source": [
    "def zipShapefilesInDir(inDir, outDir):   \n",
    "    if not os.path.exists(inDir):  \n",
    "        print(\"Input directory %s does not exist!\" % inDir)\n",
    "        return False  \n",
    "    \n",
    "    if not os.path.exists(outDir):   \n",
    "        print (\"Creating output directory %s\" %outDir)  \n",
    "        os.mkdir(outDir)  \n",
    "  \n",
    "    print(\"Zipping shapefile(s) in folder %s to output folder %s\" % (inDir, outDir))  \n",
    "   \n",
    "    for inShp in glob.glob(os.path.join(inDir, \"*.shp\")):\n",
    "        global outZip\n",
    "        outZip = os.path.join(outDir, os.path.splitext(os.path.basename(inShp))[0] + \".zip\")  \n",
    "   \n",
    "        zipShapefile(inShp, outZip)  \n",
    "    return True \n",
    "\n",
    "def zipShapefile(inShapefile, newZipFN):  \n",
    "    print('Starting to Zip '+(inShapefile)+' to '+(newZipFN))\n",
    "    \n",
    "    if not (os.path.exists(inShapefile)):  \n",
    "        print(inShapefile + ' Does Not Exist')\n",
    "        return False  \n",
    "   \n",
    "    if (os.path.exists(newZipFN)):  \n",
    "        print('Deleting '+newZipFN)  \n",
    "        os.remove(newZipFN)  \n",
    "    \n",
    "    if (os.path.exists(newZipFN)):  \n",
    "        print('Unable to Delete'+newZipFN) \n",
    "        return False  \n",
    "  \n",
    "    zipobj = zipfile.ZipFile(newZipFN,'w')  \n",
    "   \n",
    "    for infile in glob.glob( inShapefile.lower().replace(\".shp\",\".*\")):  \n",
    "        if os.path.splitext(infile)[1].lower() != \".zip\":  \n",
    "            print(\"Zipping %s\" % (infile))  \n",
    "            zipobj.write(infile,os.path.basename(infile),zipfile.ZIP_DEFLATED)  \n",
    "    \n",
    "    zipobj.close()  \n",
    "    return True "
   ]
  },
  {
   "cell_type": "code",
   "execution_count": 50,
   "metadata": {},
   "outputs": [
    {
     "name": "stdout",
     "output_type": "stream",
     "text": [
      "Zipping shapefile(s) in folder C:\\temp to output folder C:\\Users\\jame9353\\Documents\\ArcGIS\\Projects\\DC Crime\n",
      "Starting to Zip C:\\temp\\tempShp.shp to C:\\Users\\jame9353\\Documents\\ArcGIS\\Projects\\DC Crime\\tempShp.zip\n",
      "Zipping c:\\temp\\tempShp.cpg\n",
      "Zipping c:\\temp\\tempShp.dbf\n",
      "Zipping c:\\temp\\tempShp.prj\n",
      "Zipping c:\\temp\\tempShp.sbn\n",
      "Zipping c:\\temp\\tempShp.sbx\n",
      "Zipping c:\\temp\\tempShp.shp\n",
      "Zipping c:\\temp\\tempShp.shp.xml\n",
      "Zipping c:\\temp\\tempShp.shx\n"
     ]
    },
    {
     "data": {
      "text/plain": [
       "True"
      ]
     },
     "execution_count": 50,
     "metadata": {},
     "output_type": "execute_result"
    }
   ],
   "source": [
    "zipShapefilesInDir(stageFolder, localDir)"
   ]
  },
  {
   "cell_type": "code",
   "execution_count": 3,
   "metadata": {
    "collapsed": true
   },
   "outputs": [],
   "source": [
    "gis = GIS(url=portal, username=user, password=pw)"
   ]
  },
  {
   "cell_type": "code",
   "execution_count": 6,
   "metadata": {},
   "outputs": [
    {
     "ename": "NameError",
     "evalue": "name 'tempZip' is not defined",
     "output_type": "error",
     "traceback": [
      "\u001b[1;31m---------------------------------------------------------------------------\u001b[0m",
      "\u001b[1;31mNameError\u001b[0m                                 Traceback (most recent call last)",
      "\u001b[1;32m<ipython-input-6-a799010b0048>\u001b[0m in \u001b[0;36m<module>\u001b[1;34m()\u001b[0m\n\u001b[1;32m----> 1\u001b[1;33m \u001b[0mtempItem\u001b[0m \u001b[1;33m=\u001b[0m \u001b[0mgis\u001b[0m\u001b[1;33m.\u001b[0m\u001b[0mcontent\u001b[0m\u001b[1;33m.\u001b[0m\u001b[0madd\u001b[0m\u001b[1;33m(\u001b[0m\u001b[1;33m{\u001b[0m\u001b[1;34m\"title\"\u001b[0m\u001b[1;33m:\u001b[0m\u001b[0moutName\u001b[0m\u001b[1;33m}\u001b[0m\u001b[1;33m,\u001b[0m \u001b[0mtempZip\u001b[0m\u001b[1;33m)\u001b[0m\u001b[1;33m\u001b[0m\u001b[0m\n\u001b[0m",
      "\u001b[1;31mNameError\u001b[0m: name 'tempZip' is not defined"
     ]
    }
   ],
   "source": [
    "tempItem = gis.content.add({\"title\":outName}, outZip)"
   ]
  },
  {
   "cell_type": "code",
   "execution_count": 5,
   "metadata": {},
   "outputs": [],
   "source": [
    "map = gis.map()\n",
    "map"
   ]
  },
  {
   "cell_type": "code",
   "execution_count": null,
   "metadata": {
    "collapsed": true
   },
   "outputs": [],
   "source": []
  }
 ],
 "metadata": {
  "kernelspec": {
   "display_name": "Python 3",
   "language": "python",
   "name": "python3"
  },
  "language_info": {
   "codemirror_mode": {
    "name": "ipython",
    "version": 3
   },
   "file_extension": ".py",
   "mimetype": "text/x-python",
   "name": "python",
   "nbconvert_exporter": "python",
   "pygments_lexer": "ipython3",
   "version": "3.5.3"
  },
  "widgets": {
   "state": {
    "2843b65879bd4a099c028e1b70c9691d": {
     "views": [
      {
       "cell_index": 10
      }
     ]
    }
   },
   "version": "1.2.0"
  }
 },
 "nbformat": 4,
 "nbformat_minor": 2
}
